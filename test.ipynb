{
 "cells": [
  {
   "cell_type": "markdown",
   "metadata": {},
   "source": [
    "test dataset"
   ]
  },
  {
   "cell_type": "code",
   "execution_count": 1,
   "metadata": {},
   "outputs": [
    {
     "name": "stdout",
     "output_type": "stream",
     "text": [
      "Loading behavioral data from HCP_s1200.csv\n",
      "Done! Shape: (1206, 582)\n",
      "Loading functional data from rsfc_Yeo400_753_GSR.txt\n",
      "Done! Shape: (753, 79800)\n",
      "Dimension of Behavioral Data: 58\n",
      "Dimension of Functional Data: 79800\n",
      "Length of Dataset: 753\n",
      "{'subject': 100307, 'behavioral': array([[110.61      , 123.75      , 112.56      ,  17.        ,\n",
      "        111.07      , 107.2       , 122.65      ,   0.31145853,\n",
      "          9.        ,   0.9833    ,   0.9583    ,  35.        ,\n",
      "        108.06      ,  29.        ,   4.        , 114.05      ,\n",
      "          1.58      , 118.68      , 108.34      , 101.12      ,\n",
      "         38.6       ,  71.69      ,   1.76      ,  96.667     ,\n",
      "          2.893     ,   9.607     ,  96.25      ,  40.        ,\n",
      "         50.        ,  85.425     ,  37.        ,  24.        ,\n",
      "         35.        ,  15.        ,  37.        ,  39.        ,\n",
      "          8.        ,   8.        ,   8.        ,   8.        ,\n",
      "          7.        ,  46.9       ,  60.8       ,  43.4       ,\n",
      "         53.9       ,  47.2       ,  53.4       ,  48.        ,\n",
      "         42.4       ,  46.2       ,  62.        ,  53.7       ,\n",
      "         52.7       ,  54.1       ,  45.        ,  52.3       ,\n",
      "         57.9       ,  37.5       ]]), 'functional': array([0.32176337, 0.24042414, 0.19252917, ..., 0.29188083, 0.19371675,\n",
      "       0.04215344])}\n"
     ]
    }
   ],
   "source": [
    "from data_process import HCPDataset\n",
    "\n",
    "dataset = HCPDataset()\n",
    "print(f\"Dimension of Behavioral Data: {dataset.dim_behav}\")\n",
    "print(f\"Dimension of Functional Data: {dataset.dim_func}\")\n",
    "print(f\"Length of Dataset: {len(dataset)}\")\n",
    "print(dataset[1])"
   ]
  }
 ],
 "metadata": {
  "kernelspec": {
   "display_name": "nlp",
   "language": "python",
   "name": "python3"
  },
  "language_info": {
   "codemirror_mode": {
    "name": "ipython",
    "version": 3
   },
   "file_extension": ".py",
   "mimetype": "text/x-python",
   "name": "python",
   "nbconvert_exporter": "python",
   "pygments_lexer": "ipython3",
   "version": "3.12.5"
  }
 },
 "nbformat": 4,
 "nbformat_minor": 2
}
