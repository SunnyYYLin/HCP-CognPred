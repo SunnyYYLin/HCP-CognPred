{
 "cells": [
  {
   "cell_type": "markdown",
   "metadata": {},
   "source": [
    "test dataset"
   ]
  },
  {
   "cell_type": "code",
   "execution_count": 3,
   "metadata": {},
   "outputs": [
    {
     "name": "stdout",
     "output_type": "stream",
     "text": [
      "Loading behavioral data from HCP_s1200.csv\n",
      "Done! Shape: (1206, 582)\n",
      "Loading functional data from rsfc_Yeo400_753_GSR.txt\n",
      "Done! Shape: (753, 79800)\n",
      "Dimension of Behavioral Data: 6\n",
      "Dimension of Functional Data: 79800\n",
      "Length of Dataset: 753\n",
      "{'subject': 100307, 'behavioral': array([[110.61, 123.75, 112.56,  17.  , 111.07, 107.2 ]]), 'functional': array([0.32176337, 0.24042414, 0.19252917, ..., 0.29188083, 0.19371675,\n",
      "       0.04215344])}\n"
     ]
    }
   ],
   "source": [
    "from data_process import HCPDataset\n",
    "\n",
    "dataset = HCPDataset()\n",
    "print(f\"Dimension of Behavioral Data: {dataset.dim_behav}\")\n",
    "print(f\"Dimension of Functional Data: {dataset.dim_func}\")\n",
    "print(f\"Length of Dataset: {len(dataset)}\")\n",
    "print(dataset[1])\n"
   ]
  },
  {
   "cell_type": "code",
   "execution_count": 6,
   "metadata": {},
   "outputs": [
    {
     "name": "stdout",
     "output_type": "stream",
     "text": [
      "79800\n"
     ]
    }
   ],
   "source": [
    "print(dataset[1]['functional'].shape[0])"
   ]
  }
 ],
 "metadata": {
  "kernelspec": {
   "display_name": "en1",
   "language": "python",
   "name": "python3"
  },
  "language_info": {
   "codemirror_mode": {
    "name": "ipython",
    "version": 3
   },
   "file_extension": ".py",
   "mimetype": "text/x-python",
   "name": "python",
   "nbconvert_exporter": "python",
   "pygments_lexer": "ipython3",
   "version": "3.11.8"
  }
 },
 "nbformat": 4,
 "nbformat_minor": 2
}
